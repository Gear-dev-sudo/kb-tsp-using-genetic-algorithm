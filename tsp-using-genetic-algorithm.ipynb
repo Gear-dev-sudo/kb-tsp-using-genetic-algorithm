{
 "cells": [
  {
   "cell_type": "code",
   "execution_count": 1,
   "metadata": {},
   "outputs": [],
   "source": [
    "import numpy as np, random, operator, pandas as pd\n",
    "import geopy\n",
    "import matplotlib.pyplot as plt"
   ]
  },
  {
   "cell_type": "code",
   "execution_count": 2,
   "metadata": {},
   "outputs": [],
   "source": [
    "def createStartingPopulation (size, index):\n",
    "    population = []\n",
    "\n",
    "    for i in range (0, size):\n",
    "        population.append(createNewMember (index))\n",
    "    return population"
   ]
  },
  {
   "cell_type": "code",
   "execution_count": 3,
   "metadata": {},
   "outputs": [],
   "source": [
    "def pickmate (num):\n",
    "    i = random.randint (0, n)\n",
    "    return i"
   ]
  },
  {
   "cell_type": "code",
   "execution_count": 5,
   "metadata": {},
   "outputs": [],
   "source": [
    "def distance(i, j):\n",
    "    distance = geopy.distance.geodesic(i, j).km\n",
    "    return distance"
   ]
  },
  {
   "cell_type": "code",
   "execution_count": 8,
   "metadata": {},
   "outputs": [],
   "source": [
    "def scorePopulation (route, citylist):\n",
    "    score = 0\n",
    "    for i in population:\n",
    "        scores.append(fitness, (i, citylist))\n",
    "    return scores"
   ]
  },
  {
   "cell_type": "code",
   "execution_count": 9,
   "metadata": {},
   "outputs": [],
   "source": [
    "def fitness (population, citylist):\n",
    "    for i in range (1, len(route)):\n",
    "        k = int (route[i - 1])\n",
    "        l = int (route[i])\n",
    "\n",
    "        score = score + distance(citylist[k], citylist[l])\n",
    "    return score;"
   ]
  },
  {
   "cell_type": "code",
   "execution_count": 10,
   "metadata": {},
   "outputs": [],
   "source": [
    "def createNewMember (numberofcity):\n",
    "    population = set(np.arange(numberofcity, dtype=int))\n",
    "    route = list(random.sample(population, numberofcity))\n",
    "    return route"
   ]
  },
  {
   "cell_type": "code",
   "execution_count": null,
   "metadata": {},
   "outputs": [],
   "source": [
    "def crossover (a, b):\n",
    "    child = []\n",
    "    childA = []\n",
    "    childB = []\n",
    "\n",
    "    geneA = int (random.random() * len(a))\n",
    "    geneB = int (random.random() * len(a))\n",
    "\n",
    "    startGene = min (geneA, geneB)\n",
    "    endGene = max (geneA, geneB)\n",
    "\n",
    "    for i in range (startGene, endGene):\n",
    "        childA.append(a[i])\n",
    "\n",
    "    childB = [item for item in a if item not in childA]\n",
    "    child = childA + childB\n",
    "\n",
    "    return child"
   ]
  },
  {
   "cell_type": "code",
   "execution_count": 6,
   "metadata": {},
   "outputs": [],
   "source": [
    "cityList = []\n",
    "for i in range (0, 4):\n",
    "    x = float (random.uniform(-90, 90))\n",
    "    y = float (random.uniform(-90, 90))\n",
    "    cityList.append((x, y))"
   ]
  },
  {
   "cell_type": "code",
   "execution_count": null,
   "metadata": {},
   "outputs": [],
   "source": [
    "cityList"
   ]
  },
  {
   "cell_type": "code",
   "execution_count": null,
   "metadata": {},
   "outputs": [],
   "source": [
    "def rankRoutes (population, citylist):\n",
    "    fitnessResults = {}\n",
    "    for i in range (0, len(population)):\n",
    "        fitnessResults[i] = fitness(population[i], citylist)\n",
    "    return sorted(fitnessResults.items(), key = operator.itemgetter(1), reverse= False)"
   ]
  },
  {
   "cell_type": "code",
   "execution_count": null,
   "metadata": {},
   "outputs": [],
   "source": [
    "def selection (popranked, elitesize):\n",
    "    selectionResults = []\n",
    "    result = []\n",
    "    for i in popranked:\n",
    "        result.append(i[0])\n",
    "    for i in range (0, elitesize):\n",
    "        selectionResults.append(result[i])\n",
    "    return selectionResults"
   ]
  },
  {
   "cell_type": "code",
   "execution_count": null,
   "metadata": {},
   "outputs": [],
   "source": [
    "def matingPool (population, selectionresults):\n",
    "    matingpool = []\n",
    "    for i in range (0, len(selectionresults)):\n",
    "        index = selectionresults[i]\n",
    "        matingpool.append(population[index])\n",
    "    return matingpool"
   ]
  },
  {
   "cell_type": "code",
   "execution_count": null,
   "metadata": {},
   "outputs": [],
   "source": [
    "def breedPopulation (matingpool):\n",
    "    children = []\n",
    "    for i in range (len(matingpool) - 1):\n",
    "        children.append(crossover(matingpool[i], matingpool[i + 1]))\n",
    "    return children"
   ]
  }
 ],
 "metadata": {
  "interpreter": {
   "hash": "a90aeebcf29d64a654773811cc170cb25061cb2498f10ac689db374c7bf325de"
  },
  "kernelspec": {
   "display_name": "Python 3.9.7 ('base')",
   "language": "python",
   "name": "python3"
  },
  "language_info": {
   "codemirror_mode": {
    "name": "ipython",
    "version": 3
   },
   "file_extension": ".py",
   "mimetype": "text/x-python",
   "name": "python",
   "nbconvert_exporter": "python",
   "pygments_lexer": "ipython3",
   "version": "3.9.7"
  },
  "orig_nbformat": 4
 },
 "nbformat": 4,
 "nbformat_minor": 2
}
